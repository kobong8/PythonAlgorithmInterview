{
 "cells": [
  {
   "cell_type": "code",
   "execution_count": 1,
   "metadata": {},
   "outputs": [],
   "source": [
    "class Solution:\n",
    "    def longestPalindrome(self, s: str) -> str:\n",
    "        def expand(left: int, right: int) -> str:\n",
    "            while left >= 0 and right < len(s) and s[left] == s[right]:\n",
    "                left -= 1\n",
    "                right += 1\n",
    "            return s[left+1:right]\n",
    "            \n",
    "        if len(s) < 2 or s == s[::-1]:\n",
    "            return s\n",
    "            \n",
    "        result = \"\"\n",
    "        for i in range(len(s) - 1):\n",
    "            result = max(result, \n",
    "                         expand(i, i + 1),\n",
    "                         expand(i, i + 2),\n",
    "                         key=len)\n",
    "        \n",
    "        return result\n"
   ]
  },
  {
   "cell_type": "code",
   "execution_count": 2,
   "metadata": {},
   "outputs": [
    {
     "name": "stdout",
     "output_type": "stream",
     "text": [
      "babad\n"
     ]
    }
   ],
   "source": [
    "print(max(\"babad\", \"bab\", \"bad\", key=len))"
   ]
  },
  {
   "cell_type": "code",
   "execution_count": 3,
   "metadata": {},
   "outputs": [
    {
     "name": "stdout",
     "output_type": "stream",
     "text": [
      "babad\n",
      "bab\n"
     ]
    }
   ],
   "source": [
    "if __name__ == \"__main__\":\n",
    "    word = \"babad\"\n",
    "    print(word)\n",
    "    \n",
    "    soln = Solution()\n",
    "    ret = soln.longestPalindrome(word)\n",
    "    print(ret)"
   ]
  }
 ],
 "metadata": {
  "kernelspec": {
   "display_name": "py10",
   "language": "python",
   "name": "python3"
  },
  "language_info": {
   "codemirror_mode": {
    "name": "ipython",
    "version": 3
   },
   "file_extension": ".py",
   "mimetype": "text/x-python",
   "name": "python",
   "nbconvert_exporter": "python",
   "pygments_lexer": "ipython3",
   "version": "3.10.14"
  }
 },
 "nbformat": 4,
 "nbformat_minor": 2
}
