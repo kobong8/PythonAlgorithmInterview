{
 "cells": [
  {
   "cell_type": "code",
   "execution_count": 1,
   "metadata": {},
   "outputs": [],
   "source": [
    "import collections\n",
    "from typing import List, Dict"
   ]
  },
  {
   "cell_type": "code",
   "execution_count": 2,
   "metadata": {},
   "outputs": [],
   "source": [
    "class Solution:\n",
    "    def groupAnagrams(self, strs: List[str]) -> List[List[str]]:\n",
    "        anagrams = collections.defaultdict(list)\n",
    "\n",
    "        for word in strs:\n",
    "            anagrams[''.join(sorted(word))].append(word)\n",
    "        return list(anagrams.values())"
   ]
  },
  {
   "cell_type": "code",
   "execution_count": 3,
   "metadata": {},
   "outputs": [
    {
     "data": {
      "text/plain": [
       "defaultdict(int, {})"
      ]
     },
     "execution_count": 3,
     "metadata": {},
     "output_type": "execute_result"
    }
   ],
   "source": [
    "default_dict = collections.defaultdict(int)\n",
    "default_dict"
   ]
  },
  {
   "cell_type": "code",
   "execution_count": 4,
   "metadata": {},
   "outputs": [
    {
     "data": {
      "text/plain": [
       "defaultdict(int, {'key1': 0, 'key2': 1})"
      ]
     },
     "execution_count": 4,
     "metadata": {},
     "output_type": "execute_result"
    }
   ],
   "source": [
    "default_dict[\"key1\"]\n",
    "default_dict[\"key2\"] = 1\n",
    "default_dict"
   ]
  },
  {
   "cell_type": "code",
   "execution_count": 5,
   "metadata": {},
   "outputs": [
    {
     "data": {
      "text/plain": [
       "defaultdict(list, {})"
      ]
     },
     "execution_count": 5,
     "metadata": {},
     "output_type": "execute_result"
    }
   ],
   "source": [
    "default_dict_list = collections.defaultdict(list)\n",
    "default_dict_list"
   ]
  },
  {
   "cell_type": "code",
   "execution_count": 6,
   "metadata": {},
   "outputs": [
    {
     "data": {
      "text/plain": [
       "defaultdict(list, {'key1': [], 'key2': [1]})"
      ]
     },
     "execution_count": 6,
     "metadata": {},
     "output_type": "execute_result"
    }
   ],
   "source": [
    "default_dict_list[\"key1\"]\n",
    "default_dict_list[\"key2\"].append(1)\n",
    "default_dict_list"
   ]
  },
  {
   "cell_type": "code",
   "execution_count": 7,
   "metadata": {},
   "outputs": [
    {
     "name": "stdout",
     "output_type": "stream",
     "text": [
      "defaultdict(<class 'list'>, {'key1': [], 'key2': [1], 'key3': [2]})\n",
      "dict_values([[], [1], [2]])\n"
     ]
    }
   ],
   "source": [
    "default_dict_list[\"key3\"].append(2)\n",
    "print(default_dict_list)\n",
    "print(default_dict_list.values())"
   ]
  },
  {
   "cell_type": "code",
   "execution_count": 8,
   "metadata": {},
   "outputs": [
    {
     "data": {
      "text/plain": [
       "{'key1': 0, 'key2': 1}"
      ]
     },
     "execution_count": 8,
     "metadata": {},
     "output_type": "execute_result"
    }
   ],
   "source": [
    "test_dict: Dict[str, int] = {\"key1\": 0}\n",
    "test_dict[\"key2\"] = 1\n",
    "# test_dict[\"key3\"] # KeyError: 'key3'\n",
    "test_dict"
   ]
  },
  {
   "cell_type": "code",
   "execution_count": 9,
   "metadata": {},
   "outputs": [
    {
     "name": "stdout",
     "output_type": "stream",
     "text": [
      "['a', 'e', 't']\n",
      "['a', 'e', 't']\n",
      "['a', 'e', 't']\n",
      "\n",
      "aet\n"
     ]
    }
   ],
   "source": [
    "print(sorted(\"eat\"))\n",
    "print(sorted(\"tea\"))\n",
    "print(sorted(\"ate\"))\n",
    "print()\n",
    "\n",
    "print(\"\".join(sorted(\"eat\")))"
   ]
  },
  {
   "cell_type": "code",
   "execution_count": 10,
   "metadata": {},
   "outputs": [
    {
     "name": "stdout",
     "output_type": "stream",
     "text": [
      "['eat', 'tea', 'tan', 'ate', 'nat', 'bat']\n",
      "[['eat', 'tea', 'ate'], ['tan', 'nat'], ['bat']]\n"
     ]
    }
   ],
   "source": [
    "if __name__ == \"__main__\":\n",
    "    strs = [\"eat\", \"tea\", \"tan\", \"ate\", \"nat\", \"bat\"] \n",
    "    print(strs)\n",
    "    \n",
    "    soln = Solution()\n",
    "    ret = soln.groupAnagrams(strs)\n",
    "    print(ret)"
   ]
  }
 ],
 "metadata": {
  "kernelspec": {
   "display_name": "py10",
   "language": "python",
   "name": "python3"
  },
  "language_info": {
   "codemirror_mode": {
    "name": "ipython",
    "version": 3
   },
   "file_extension": ".py",
   "mimetype": "text/x-python",
   "name": "python",
   "nbconvert_exporter": "python",
   "pygments_lexer": "ipython3",
   "version": "3.10.14"
  }
 },
 "nbformat": 4,
 "nbformat_minor": 2
}
