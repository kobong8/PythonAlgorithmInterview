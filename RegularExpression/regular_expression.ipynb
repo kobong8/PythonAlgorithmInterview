{
 "cells": [
  {
   "cell_type": "code",
   "execution_count": 1,
   "metadata": {},
   "outputs": [],
   "source": [
    "import re"
   ]
  },
  {
   "cell_type": "code",
   "execution_count": 2,
   "metadata": {},
   "outputs": [
    {
     "name": "stdout",
     "output_type": "stream",
     "text": [
      "<re.Match object; span=(0, 1), match='a'>\n",
      "<re.Match object; span=(0, 1), match='b'>\n",
      "None\n"
     ]
    }
   ],
   "source": [
    "# 문자 클래스 []\n",
    "p = re.compile(\"[abc]\")\n",
    "\n",
    "m = p.match(\"a\")\n",
    "print(m)\n",
    "\n",
    "m = p.match(\"before\")\n",
    "print(m)\n",
    "\n",
    "m = p.match(\"dude\")\n",
    "print(m)"
   ]
  },
  {
   "cell_type": "code",
   "execution_count": null,
   "metadata": {},
   "outputs": [],
   "source": [
    "# Dot(.)\n",
    "p = re.compile(\"[a.c]\")\n",
    "\n",
    "m = p.match(\"aab\")\n",
    "print(m)\n",
    "\n",
    "m = p.match(\"a0b\")\n",
    "print(m)\n",
    "\n",
    "m = p.match(\"abc\")\n",
    "print(m)"
   ]
  },
  {
   "cell_type": "code",
   "execution_count": 3,
   "metadata": {},
   "outputs": [
    {
     "name": "stdout",
     "output_type": "stream",
     "text": [
      "<re.Match object; span=(0, 1), match='p'>\n",
      "<re.Match object; span=(0, 1), match='p'>\n",
      "<re.Match object; span=(0, 6), match='python'>\n",
      "<re.Match object; span=(0, 12), match='pythonpython'>\n"
     ]
    }
   ],
   "source": [
    "p = re.compile(\"[a-z]\")\n",
    "m = p.match(\"python\")\n",
    "print(m)\n",
    "m = p.match(\"pythonpython\")\n",
    "print(m)\n",
    "\n",
    "p = re.compile(\"[a-z]+\")\n",
    "m = p.match(\"python\")\n",
    "print(m)\n",
    "m = p.match(\"pythonpython\")\n",
    "print(m)"
   ]
  }
 ],
 "metadata": {
  "kernelspec": {
   "display_name": "py10",
   "language": "python",
   "name": "python3"
  },
  "language_info": {
   "codemirror_mode": {
    "name": "ipython",
    "version": 3
   },
   "file_extension": ".py",
   "mimetype": "text/x-python",
   "name": "python",
   "nbconvert_exporter": "python",
   "pygments_lexer": "ipython3",
   "version": "3.10.14"
  }
 },
 "nbformat": 4,
 "nbformat_minor": 2
}
