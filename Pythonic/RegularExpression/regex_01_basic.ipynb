{
 "cells": [
  {
   "cell_type": "code",
   "execution_count": 1,
   "metadata": {},
   "outputs": [],
   "source": [
    "import re"
   ]
  },
  {
   "cell_type": "code",
   "execution_count": 2,
   "metadata": {},
   "outputs": [
    {
     "name": "stdout",
     "output_type": "stream",
     "text": [
      "<re.Match object; span=(0, 1), match='a'>\n",
      "<re.Match object; span=(0, 1), match='b'>\n",
      "<re.Match object; span=(0, 1), match='c'>\n",
      "None\n"
     ]
    }
   ],
   "source": [
    "# 문자 클래스 []\n",
    "p = re.compile(\"[abc]\")\n",
    "\n",
    "m = p.match(\"a\")\n",
    "print(m)\n",
    "\n",
    "m = p.match(\"before\")\n",
    "print(m)\n",
    "\n",
    "m = p.match(\"cat\")\n",
    "print(m)\n",
    "\n",
    "m = p.match(\"dude\")\n",
    "print(m)"
   ]
  },
  {
   "cell_type": "code",
   "execution_count": 3,
   "metadata": {},
   "outputs": [
    {
     "name": "stdout",
     "output_type": "stream",
     "text": [
      "<re.Match object; span=(0, 3), match='aab'>\n",
      "<re.Match object; span=(0, 3), match='a0b'>\n",
      "None\n"
     ]
    }
   ],
   "source": [
    "# Dot(.)\n",
    "p = re.compile(\"a.b\")\n",
    "# p = re.compile(\"[a.b]\") (X)\n",
    "\n",
    "m = p.match(\"aab\")\n",
    "print(m)\n",
    "\n",
    "m = p.match(\"a0b\")\n",
    "print(m)\n",
    "\n",
    "m = p.match(\"abc\")\n",
    "print(m)"
   ]
  },
  {
   "cell_type": "code",
   "execution_count": 4,
   "metadata": {},
   "outputs": [
    {
     "name": "stdout",
     "output_type": "stream",
     "text": [
      "<re.Match object; span=(0, 3), match='a.b'>\n",
      "None\n",
      "None\n",
      "None\n"
     ]
    }
   ],
   "source": [
    "# [.]\n",
    "p = re.compile(\"a[.]b\")\n",
    "\n",
    "m = p.match(\"a.b\")\n",
    "print(m)\n",
    "\n",
    "m = p.match(\"aab\")\n",
    "print(m)\n",
    "\n",
    "m = p.match(\"a0b\")\n",
    "print(m)\n",
    "\n",
    "m = p.match(\"abc\")\n",
    "print(m)"
   ]
  },
  {
   "cell_type": "code",
   "execution_count": 5,
   "metadata": {},
   "outputs": [
    {
     "name": "stdout",
     "output_type": "stream",
     "text": [
      "<re.Match object; span=(0, 2), match='ct'>\n",
      "<re.Match object; span=(0, 3), match='cat'>\n",
      "<re.Match object; span=(0, 5), match='caaat'>\n",
      "None\n"
     ]
    }
   ],
   "source": [
    "# 반복(*)\n",
    "p = re.compile(\"ca*t\")\n",
    "\n",
    "m = p.match(\"ct\")\n",
    "print(m)\n",
    "\n",
    "m = p.match(\"cat\")\n",
    "print(m)\n",
    "\n",
    "m = p.match(\"caaat\")\n",
    "print(m)\n",
    "\n",
    "m = p.match(\"caabt\")\n",
    "print(m)"
   ]
  },
  {
   "cell_type": "code",
   "execution_count": 6,
   "metadata": {},
   "outputs": [
    {
     "name": "stdout",
     "output_type": "stream",
     "text": [
      "None\n",
      "<re.Match object; span=(0, 3), match='cat'>\n",
      "<re.Match object; span=(0, 5), match='caaat'>\n"
     ]
    }
   ],
   "source": [
    "# 반복(+)\n",
    "p = re.compile(\"ca+t\")\n",
    "\n",
    "m = p.match(\"ct\")\n",
    "print(m)\n",
    "\n",
    "m = p.match(\"cat\")\n",
    "print(m)\n",
    "\n",
    "m = p.match(\"caaat\")\n",
    "print(m)"
   ]
  },
  {
   "cell_type": "code",
   "execution_count": 7,
   "metadata": {},
   "outputs": [
    {
     "name": "stdout",
     "output_type": "stream",
     "text": [
      "None\n",
      "None\n",
      "<re.Match object; span=(0, 4), match='caat'>\n",
      "None\n"
     ]
    }
   ],
   "source": [
    "# 반복 1. {m}\n",
    "p = re.compile(\"ca{2}t\")\n",
    "\n",
    "m = p.match(\"ct\")\n",
    "print(m)\n",
    "\n",
    "m = p.match(\"cat\")\n",
    "print(m)\n",
    "\n",
    "m = p.match(\"caat\")\n",
    "print(m)\n",
    "\n",
    "m = p.match(\"caaat\")\n",
    "print(m)"
   ]
  },
  {
   "cell_type": "code",
   "execution_count": 8,
   "metadata": {},
   "outputs": [
    {
     "name": "stdout",
     "output_type": "stream",
     "text": [
      "None\n",
      "<re.Match object; span=(0, 4), match='caat'>\n",
      "<re.Match object; span=(0, 7), match='caaaaat'>\n",
      "None\n"
     ]
    }
   ],
   "source": [
    "# 반복 2. {m,n}\n",
    "p = re.compile(\"ca{2,5}t\")\n",
    "# p = re.compile(\"ca{2, 5}t\") (X)\n",
    "\n",
    "m = p.match(\"cat\")\n",
    "print(m)\n",
    "\n",
    "m = p.match(\"caat\")\n",
    "print(m)\n",
    "\n",
    "m = p.match(\"caaaaat\")\n",
    "print(m)\n",
    "\n",
    "m = p.match(\"caaaaaat\")\n",
    "print(m)"
   ]
  },
  {
   "cell_type": "code",
   "execution_count": 9,
   "metadata": {},
   "outputs": [
    {
     "name": "stdout",
     "output_type": "stream",
     "text": [
      "<re.Match object; span=(0, 2), match='ac'>\n",
      "<re.Match object; span=(0, 3), match='abc'>\n",
      "None\n"
     ]
    }
   ],
   "source": [
    "# 반복 3. ?\n",
    "p = re.compile(\"ab?c\")\n",
    "\n",
    "m = p.match(\"ac\")\n",
    "print(m)\n",
    "\n",
    "m = p.match(\"abc\")\n",
    "print(m)\n",
    "\n",
    "m = p.match(\"abbc\")\n",
    "print(m)"
   ]
  }
 ],
 "metadata": {
  "kernelspec": {
   "display_name": "py10",
   "language": "python",
   "name": "python3"
  },
  "language_info": {
   "codemirror_mode": {
    "name": "ipython",
    "version": 3
   },
   "file_extension": ".py",
   "mimetype": "text/x-python",
   "name": "python",
   "nbconvert_exporter": "python",
   "pygments_lexer": "ipython3",
   "version": "3.10.14"
  }
 },
 "nbformat": 4,
 "nbformat_minor": 2
}
