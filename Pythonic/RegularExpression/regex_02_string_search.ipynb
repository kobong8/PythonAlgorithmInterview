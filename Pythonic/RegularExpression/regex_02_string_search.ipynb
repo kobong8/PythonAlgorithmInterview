{
 "cells": [
  {
   "cell_type": "code",
   "execution_count": 1,
   "metadata": {},
   "outputs": [],
   "source": [
    "import re"
   ]
  },
  {
   "cell_type": "code",
   "execution_count": 2,
   "metadata": {},
   "outputs": [
    {
     "name": "stdout",
     "output_type": "stream",
     "text": [
      "<re.Match object; span=(0, 1), match='p'>\n",
      "<re.Match object; span=(0, 1), match='p'>\n",
      "<re.Match object; span=(0, 6), match='python'>\n",
      "<re.Match object; span=(0, 12), match='pythonpython'>\n"
     ]
    }
   ],
   "source": [
    "# 1. match\n",
    "p = re.compile(\"[a-z]\")\n",
    "m = p.match(\"python\")\n",
    "print(m)\n",
    "m = p.match(\"pythonpython\")\n",
    "print(m)\n",
    "\n",
    "p = re.compile(\"[a-z]+\")\n",
    "m = p.match(\"python\")\n",
    "print(m)\n",
    "m = p.match(\"pythonpython\")\n",
    "print(m)"
   ]
  },
  {
   "cell_type": "code",
   "execution_count": 3,
   "metadata": {},
   "outputs": [
    {
     "name": "stdout",
     "output_type": "stream",
     "text": [
      "Match found:  p\n"
     ]
    }
   ],
   "source": [
    "p = re.compile(\"[a-z]\")\n",
    "m = p.match(\"python\")\n",
    "if m:\n",
    "    print(\"Match found: \", m.group())\n",
    "else:\n",
    "    print(\"No match\")"
   ]
  },
  {
   "cell_type": "code",
   "execution_count": 4,
   "metadata": {},
   "outputs": [
    {
     "name": "stdout",
     "output_type": "stream",
     "text": [
      "<re.Match object; span=(0, 1), match='p'>\n"
     ]
    }
   ],
   "source": [
    "# 2. search\n",
    "m = p.search(\"python\")\n",
    "print(m)"
   ]
  },
  {
   "cell_type": "code",
   "execution_count": 5,
   "metadata": {},
   "outputs": [
    {
     "name": "stdout",
     "output_type": "stream",
     "text": [
      "<re.Match object; span=(2, 3), match='p'>\n"
     ]
    }
   ],
   "source": [
    "m = p.search(\"3 python\")\n",
    "print(m)"
   ]
  },
  {
   "cell_type": "code",
   "execution_count": 6,
   "metadata": {},
   "outputs": [
    {
     "name": "stdout",
     "output_type": "stream",
     "text": [
      "['l', 'i', 'f', 'e', 'i', 's', 't', 'o', 'o', 's', 'h', 'o', 'r', 't']\n",
      "['life', 'is', 'too', 'short']\n"
     ]
    }
   ],
   "source": [
    "# 3. findall\n",
    "p = re.compile(\"[a-z]\")\n",
    "result = p.findall(\"life is too short\")\n",
    "print(result)\n",
    "\n",
    "p = re.compile(\"[a-z]+\")\n",
    "result = p.findall(\"life is too short\")\n",
    "print(result)"
   ]
  },
  {
   "cell_type": "code",
   "execution_count": 7,
   "metadata": {},
   "outputs": [
    {
     "name": "stdout",
     "output_type": "stream",
     "text": [
      "<callable_iterator object at 0x00000274CCA91630>\n"
     ]
    }
   ],
   "source": [
    "# 4. finditer\n",
    "result = p.finditer(\"life is too short\")\n",
    "print(result)"
   ]
  },
  {
   "cell_type": "code",
   "execution_count": 8,
   "metadata": {},
   "outputs": [
    {
     "name": "stdout",
     "output_type": "stream",
     "text": [
      "<re.Match object; span=(0, 4), match='life'>\n",
      "<re.Match object; span=(5, 7), match='is'>\n",
      "<re.Match object; span=(8, 11), match='too'>\n",
      "<re.Match object; span=(12, 17), match='short'>\n"
     ]
    }
   ],
   "source": [
    "for i in result:\n",
    "    print(i)"
   ]
  }
 ],
 "metadata": {
  "kernelspec": {
   "display_name": "py10",
   "language": "python",
   "name": "python3"
  },
  "language_info": {
   "codemirror_mode": {
    "name": "ipython",
    "version": 3
   },
   "file_extension": ".py",
   "mimetype": "text/x-python",
   "name": "python",
   "nbconvert_exporter": "python",
   "pygments_lexer": "ipython3",
   "version": "3.10.14"
  }
 },
 "nbformat": 4,
 "nbformat_minor": 2
}
