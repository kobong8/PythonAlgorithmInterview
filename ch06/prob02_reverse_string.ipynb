{
 "cells": [
  {
   "cell_type": "code",
   "execution_count": 1,
   "metadata": {},
   "outputs": [],
   "source": [
    "from typing import List"
   ]
  },
  {
   "cell_type": "code",
   "execution_count": 2,
   "metadata": {},
   "outputs": [],
   "source": [
    "class Solution:\n",
    "    # soln01\n",
    "    def reverseString_swap(self, s: List[str]) -> None:\n",
    "        left, right = 0, len(s) -1\n",
    "        while left < right:\n",
    "            s[left], s[right] = s[right], s[left]\n",
    "            left += 1\n",
    "            right -= 1\n",
    "\n",
    "    # soln02\n",
    "    def reverseString_pythonic(self, s: List[str]) -> None:\n",
    "        s.reverse()\n",
    "\n",
    "    # soln03\n",
    "    def reverseString_slicing(self, s: List[str]) -> None:\n",
    "        # s = s[::-1]\n",
    "        # assignment?\n",
    "        s[:] = s[::-1]"
   ]
  },
  {
   "cell_type": "code",
   "execution_count": 3,
   "metadata": {},
   "outputs": [
    {
     "name": "stdout",
     "output_type": "stream",
     "text": [
      "original\n",
      "['h', 'e', 'l', 'l', 'o']\n",
      "reverseString_swap\n",
      "['o', 'l', 'l', 'e', 'h']\n",
      "reverseString_pythonic\n",
      "['h', 'e', 'l', 'l', 'o']\n",
      "reverseString_slicing\n",
      "['o', 'l', 'l', 'e', 'h']\n",
      "\n",
      "A man, a plan, a canal: Panama\n",
      "amanaP :lanac a ,nalp a ,nam A\n"
     ]
    }
   ],
   "source": [
    "if __name__ == \"__main__\":\n",
    "    # list_str = [\"H\", \"a\", \"n\", \"n\", \"a\", \"h\"]\n",
    "    list_str = [\"h\", \"e\", \"l\", \"l\", \"o\"]\n",
    "    src_str = list_str\n",
    "    print(\"original\")\n",
    "    print(src_str)\n",
    "\n",
    "    soln = Solution()\n",
    "    soln.reverseString_swap(src_str)\n",
    "    print(\"reverseString_swap\")\n",
    "    print(src_str)\n",
    "\n",
    "    print(\"reverseString_pythonic\")\n",
    "    soln.reverseString_pythonic(src_str)\n",
    "    print(src_str)\n",
    "    \n",
    "    print(\"reverseString_slicing\")\n",
    "    soln.reverseString_slicing(src_str)\n",
    "    print(src_str)\n",
    "    print()\n",
    "\n",
    "    # TypeError: 'str' object does not support item assignment\n",
    "    # string -> list -> \"\".join\n",
    "    str_example = \"A man, a plan, a canal: Panama\"\n",
    "    src_str = list(str_example)\n",
    "    # print(src_str)\n",
    "\n",
    "    soln.reverseString_swap(src_str)\n",
    "    print(str_example)\n",
    "    print(\"\".join(src_str))"
   ]
  }
 ],
 "metadata": {
  "kernelspec": {
   "display_name": "tf12",
   "language": "python",
   "name": "python3"
  },
  "language_info": {
   "codemirror_mode": {
    "name": "ipython",
    "version": 3
   },
   "file_extension": ".py",
   "mimetype": "text/x-python",
   "name": "python",
   "nbconvert_exporter": "python",
   "pygments_lexer": "ipython3",
   "version": "3.10.13"
  }
 },
 "nbformat": 4,
 "nbformat_minor": 2
}
