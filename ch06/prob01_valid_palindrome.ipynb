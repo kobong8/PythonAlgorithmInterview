{
 "cells": [
  {
   "cell_type": "code",
   "execution_count": 1,
   "metadata": {},
   "outputs": [],
   "source": [
    "import collections\n",
    "from typing import Deque\n",
    "import re"
   ]
  },
  {
   "cell_type": "code",
   "execution_count": 2,
   "metadata": {},
   "outputs": [],
   "source": [
    "class Solution:\n",
    "    # soln01\n",
    "    def isPalindrome_list(self, s: str) -> bool:\n",
    "        strs: list = []\n",
    "        for char in s:\n",
    "            if char.isalnum():\n",
    "                strs.append(char.lower())\n",
    "\n",
    "        while len(strs) > 1:\n",
    "            if strs.pop(0) != strs.pop():\n",
    "                return False\n",
    "\n",
    "        return True\n",
    "    \n",
    "    # soln02\n",
    "    def isPalindrome_deque(self, s: str) -> bool:\n",
    "        strs: Deque = collections.deque()\n",
    "        for char in s:\n",
    "            if char.isalnum():\n",
    "                strs.append(char.lower())\n",
    "\n",
    "        while len(strs) > 1:\n",
    "            if strs.popleft() != strs.pop():\n",
    "                return False\n",
    "\n",
    "        return True\n",
    "    \n",
    "    # soln03\n",
    "    def isPalindrome_slicing(self, s: str) -> bool:\n",
    "        s = s.lower()\n",
    "        s = re.sub('[^a-z0-9]', '', s)\n",
    "\n",
    "        return s == s[::-1]  # 슬라이싱"
   ]
  },
  {
   "cell_type": "code",
   "execution_count": 3,
   "metadata": {},
   "outputs": [
    {
     "name": "stdout",
     "output_type": "stream",
     "text": [
      "True\n",
      "\n",
      "True\n",
      "\n",
      "True\n",
      "\n",
      "FUNCTION TEST\n",
      "True\n",
      "True\n",
      "False\n"
     ]
    }
   ],
   "source": [
    "if __name__ == \"__main__\":\n",
    "    str_example = \"A man, a plan, a canal: Panama\"\n",
    "\n",
    "    soln = Solution()\n",
    "    print(soln.isPalindrome_list(str_example))\n",
    "    print()\n",
    "    print(soln.isPalindrome_deque(str_example))\n",
    "    print()\n",
    "    print(soln.isPalindrome_slicing(str_example))\n",
    "    print()\n",
    "    \n",
    "    # TEST\n",
    "    print(\"FUNCTION TEST\")\n",
    "    print(\"a\".isalnum())\n",
    "    print(\"1\".isalnum())\n",
    "    print(\"?\".isalnum())"
   ]
  }
 ],
 "metadata": {
  "kernelspec": {
   "display_name": "tf12",
   "language": "python",
   "name": "python3"
  },
  "language_info": {
   "codemirror_mode": {
    "name": "ipython",
    "version": 3
   },
   "file_extension": ".py",
   "mimetype": "text/x-python",
   "name": "python",
   "nbconvert_exporter": "python",
   "pygments_lexer": "ipython3",
   "version": "3.10.13"
  }
 },
 "nbformat": 4,
 "nbformat_minor": 2
}
