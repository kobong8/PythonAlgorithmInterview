{
 "cells": [
  {
   "cell_type": "code",
   "execution_count": 1,
   "metadata": {},
   "outputs": [
    {
     "data": {
      "text/plain": [
       "['1 A', '1 B', '2 A', '4 C']"
      ]
     },
     "execution_count": 1,
     "metadata": {},
     "output_type": "execute_result"
    }
   ],
   "source": [
    "# TEST 01\n",
    "s = [\"2 A\", \"1 B\", \"4 C\", \"1 A\"]\n",
    "sorted(s)"
   ]
  },
  {
   "cell_type": "code",
   "execution_count": 2,
   "metadata": {},
   "outputs": [
    {
     "name": "stdout",
     "output_type": "stream",
     "text": [
      "['1 A', '2 A', '1 B', '4 C']\n"
     ]
    }
   ],
   "source": [
    "# TEST 02\n",
    "def func(x):\n",
    "    return x.split()[1], x.split()[0]\n",
    "\n",
    "s = [\"2 A\", \"1 B\", \"4 C\", \"1 A\"]\n",
    "s.sort(key=func)\n",
    "print(s)"
   ]
  },
  {
   "cell_type": "code",
   "execution_count": 3,
   "metadata": {},
   "outputs": [
    {
     "name": "stdout",
     "output_type": "stream",
     "text": [
      "['1 A', '2 A', '1 B', '4 C']\n"
     ]
    }
   ],
   "source": [
    "s.sort(key=lambda x: (x.split()[1], x.split()[0]))\n",
    "print(s)"
   ]
  }
 ],
 "metadata": {
  "kernelspec": {
   "display_name": "py10",
   "language": "python",
   "name": "python3"
  },
  "language_info": {
   "codemirror_mode": {
    "name": "ipython",
    "version": 3
   },
   "file_extension": ".py",
   "mimetype": "text/x-python",
   "name": "python",
   "nbconvert_exporter": "python",
   "pygments_lexer": "ipython3",
   "version": "3.10.14"
  }
 },
 "nbformat": 4,
 "nbformat_minor": 2
}
