{
 "cells": [
  {
   "cell_type": "code",
   "execution_count": 1,
   "metadata": {},
   "outputs": [],
   "source": [
    "from typing import List"
   ]
  },
  {
   "cell_type": "code",
   "execution_count": 2,
   "metadata": {},
   "outputs": [],
   "source": [
    "class Solution:\n",
    "    # soln two points\n",
    "    def trap_tp(self, height: List[int]) -> int:\n",
    "        if not height:\n",
    "            return 0\n",
    "\n",
    "        volume = 0\n",
    "        left, right = 0, len(height) - 1\n",
    "        left_max, right_max = height[left], height[right]\n",
    "\n",
    "        while left < right:\n",
    "            left_max, right_max = max(height[left], left_max), max(height[right], right_max)\n",
    "            if left_max <= right_max:\n",
    "                volume += left_max - height[left]\n",
    "                left += 1\n",
    "            else:\n",
    "                volume += right_max - height[right]\n",
    "                right -= 1\n",
    "        return volume\n",
    "\n",
    "    # soln stack\n",
    "    def trap_st(self, height: List[int]) -> int:\n",
    "        stack = []\n",
    "        volume = 0\n",
    "\n",
    "        for i in range(len(height)):\n",
    "            while stack and height[i] > height[stack[-1]]:\n",
    "                top = stack.pop()\n",
    "\n",
    "                if not len(stack):\n",
    "                    break\n",
    "\n",
    "                distance = i - stack[-1] - 1\n",
    "                waters = min(height[i], height[stack[-1]]) - height[top]\n",
    "\n",
    "                volume += distance * waters\n",
    "\n",
    "            stack.append(i)\n",
    "        return volume"
   ]
  },
  {
   "cell_type": "code",
   "execution_count": 3,
   "metadata": {},
   "outputs": [
    {
     "name": "stdout",
     "output_type": "stream",
     "text": [
      "6\n",
      "6\n"
     ]
    }
   ],
   "source": [
    "if __name__ == \"__main__\":\n",
    "    nums: list[int] = [0, 1, 0, 2, 1, 0, 1, 3, 2, 1, 2, 1]\n",
    "    \n",
    "    soln = Solution()\n",
    "    ret = soln.trap_tp(nums)\n",
    "    print(ret)\n",
    "\n",
    "    ret = soln.trap_st(nums)\n",
    "    print(ret)"
   ]
  }
 ],
 "metadata": {
  "kernelspec": {
   "display_name": "py10",
   "language": "python",
   "name": "python3"
  },
  "language_info": {
   "codemirror_mode": {
    "name": "ipython",
    "version": 3
   },
   "file_extension": ".py",
   "mimetype": "text/x-python",
   "name": "python",
   "nbconvert_exporter": "python",
   "pygments_lexer": "ipython3",
   "version": "3.10.14"
  }
 },
 "nbformat": 4,
 "nbformat_minor": 2
}
