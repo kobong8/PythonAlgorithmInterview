{
 "cells": [
  {
   "cell_type": "code",
   "execution_count": 1,
   "metadata": {},
   "outputs": [],
   "source": [
    "class Solution:\n",
    "    # soln kobong\n",
    "    def twoSum(self, nums: list, target: int) -> list:\n",
    "        ret_sum = 0\n",
    "        target_i = 0\n",
    "        for i in range(len(nums)):\n",
    "            ret_sum += nums[i]\n",
    "\n",
    "            if ret_sum == target:\n",
    "                target_i = i\n",
    "                break\n",
    "\n",
    "        return [0, target_i]"
   ]
  },
  {
   "cell_type": "code",
   "execution_count": 2,
   "metadata": {},
   "outputs": [
    {
     "name": "stdout",
     "output_type": "stream",
     "text": [
      "[0, 1]\n"
     ]
    }
   ],
   "source": [
    "if __name__ == \"__main__\":\n",
    "    nums: list[int] = [2, 7, 11, 15]\n",
    "    target: int = 9\n",
    "    \n",
    "    soln = Solution()\n",
    "    ret = soln.twoSum(nums, target)\n",
    "    print(ret)"
   ]
  }
 ],
 "metadata": {
  "kernelspec": {
   "display_name": "py10",
   "language": "python",
   "name": "python3"
  },
  "language_info": {
   "codemirror_mode": {
    "name": "ipython",
    "version": 3
   },
   "file_extension": ".py",
   "mimetype": "text/x-python",
   "name": "python",
   "nbconvert_exporter": "python",
   "pygments_lexer": "ipython3",
   "version": "3.10.14"
  }
 },
 "nbformat": 4,
 "nbformat_minor": 2
}
