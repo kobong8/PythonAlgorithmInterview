{
 "cells": [
  {
   "cell_type": "code",
   "execution_count": 5,
   "metadata": {},
   "outputs": [],
   "source": [
    "from typing import List\n",
    "\n",
    "class Solution:\n",
    "    # soln kobong\n",
    "    def twoSum_kb(self, nums: list[int], target: int) -> list[int]:\n",
    "        ret_sum = 0\n",
    "        target_i = 0\n",
    "        for i in range(len(nums)):\n",
    "            ret_sum += nums[i]\n",
    "\n",
    "            if ret_sum == target:\n",
    "                target_i = i\n",
    "                break\n",
    "\n",
    "        return [0, target_i]\n",
    "    \n",
    "    # soln Brute-Force\n",
    "    def twoSum_bf(self, nums: List[int], target: int) -> List[int]:\n",
    "        for i in range(len(nums)):\n",
    "            for j in range(i + 1, len(nums)):\n",
    "                if nums[i] + nums[j] == target:\n",
    "                    return [i, j]\n",
    "    \n",
    "    # soln search using in\n",
    "    def twoSum_in(self, nums: List[int], target: int) -> List[int]:\n",
    "        for i, n in enumerate(nums):\n",
    "            complement = target - n\n",
    "\n",
    "            if complement in nums[i + 1:]:\n",
    "                return [nums.index(n), nums[i + 1:].index(complement) + (i + 1)]\n",
    "    \n",
    "    # soln first value\n",
    "    def twoSum_fv(self, nums: List[int], target: int) -> List[int]:\n",
    "        nums_map = {}\n",
    "        for i, num in enumerate(nums):\n",
    "            nums_map[num] = i\n",
    "        \n",
    "        for i, num in enumerate(nums):\n",
    "            if target - num in nums_map and i != nums_map[target - num]:\n",
    "                return [i, nums_map[target - num]]"
   ]
  },
  {
   "cell_type": "code",
   "execution_count": 7,
   "metadata": {},
   "outputs": [
    {
     "name": "stdout",
     "output_type": "stream",
     "text": [
      "[0, 0]\n",
      "[0, 3]\n",
      "[0, 3]\n",
      "[0, 3]\n"
     ]
    }
   ],
   "source": [
    "if __name__ == \"__main__\":\n",
    "    nums: list[int] = [2, 7, 11, 15]\n",
    "    target: int = 17\n",
    "    \n",
    "    soln = Solution()\n",
    "    ret = soln.twoSum_kb(nums, target)\n",
    "    print(ret)\n",
    "    \n",
    "    ret = soln.twoSum_bf(nums, target)\n",
    "    print(ret)\n",
    "    \n",
    "    ret = soln.twoSum_in(nums, target)\n",
    "    print(ret)\n",
    "\n",
    "    ret = soln.twoSum_fv(nums, target)\n",
    "    print(ret)"
   ]
  }
 ],
 "metadata": {
  "kernelspec": {
   "display_name": "py10",
   "language": "python",
   "name": "python3"
  },
  "language_info": {
   "codemirror_mode": {
    "name": "ipython",
    "version": 3
   },
   "file_extension": ".py",
   "mimetype": "text/x-python",
   "name": "python",
   "nbconvert_exporter": "python",
   "pygments_lexer": "ipython3",
   "version": "3.10.14"
  }
 },
 "nbformat": 4,
 "nbformat_minor": 2
}
