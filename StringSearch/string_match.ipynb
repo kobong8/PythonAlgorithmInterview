{
 "cells": [
  {
   "cell_type": "code",
   "execution_count": 1,
   "metadata": {},
   "outputs": [],
   "source": [
    "# [1] brute force method\n",
    "def bf_match(txt: str, pat: str) -> int:\n",
    "    print(\"Brute Force Method\")\n",
    "    pt = 0\n",
    "    pp = 0\n",
    "\n",
    "    while pt != len(txt) and pp != len(pat):\n",
    "        if txt[pt] == pat[pp]:\n",
    "            pt += 1\n",
    "            pp += 1\n",
    "        else:\n",
    "            pt = pt - pp +1\n",
    "            pp = 0\n",
    "\n",
    "    return pt - pp if pp == len(pat) else -1"
   ]
  },
  {
   "cell_type": "code",
   "execution_count": 2,
   "metadata": {},
   "outputs": [],
   "source": [
    "# [2] Knuth-Morris-Pratt(KMP) method \n",
    "# TODO while 문이 2개가 돌아가니깐 연산 시간 확인 필요\n",
    "# TODO 문자열이 증가하니깐 연산 결과도출이 안됨\n",
    "def kmp_match(txt: str, pat: str) -> int:\n",
    "    print(\"Knuth-Morris-Pratt(KMP) Method\")\n",
    "    pt = 1\n",
    "    pp = 0\n",
    "    skip = [0] * (len(pat) + 1)\n",
    "\n",
    "    # KMP Table\n",
    "    # TODO 위에서 0으로 다 채웠는데 필요한건지?\n",
    "    # skip[pt] = 0 \n",
    "    while pt != len(pat):\n",
    "        if pat[pt] == pat[pp]:\n",
    "            pt += 1\n",
    "            pp += 1\n",
    "            skip[pt] = pp \n",
    "        elif pp == 0:\n",
    "            pt += 1\n",
    "            skip[pt] = pp\n",
    "        else:\n",
    "            pp == skip[pp]\n",
    "    print(skip)\n",
    "    \n",
    "    pt = pp = 0\n",
    "    while pt != len(txt) and pp != len(pat):\n",
    "        if txt[pt] == pat[pp]:\n",
    "            pt += 1\n",
    "            pp += 1\n",
    "        elif pp == 0:\n",
    "            pt += 1\n",
    "        else:\n",
    "            pp = skip[pp]\n",
    "    print(skip)\n",
    "\n",
    "    return pt - pp if pp == len(pat) else -1"
   ]
  },
  {
   "cell_type": "code",
   "execution_count": 3,
   "metadata": {},
   "outputs": [],
   "source": [
    "# [3] Boyer-Moor Method\n",
    "def bm_match(txt: str, pat: str) -> int:\n",
    "    print(\"Boyer-Moor Method\")\n",
    "    skip = [None] * 256\n",
    "\n",
    "    # 건너뛰기 표 만들기\n",
    "    for pt in range(256):\n",
    "        skip[pt] = len(pat)\n",
    "    for pt in range(len(pat)):\n",
    "        skip[ord(pat[pt])] = len(pat) - pt - 1\n",
    "    # print(skip)\n",
    "\n",
    "    # 검색하기\n",
    "\n",
    "    return -1"
   ]
  },
  {
   "cell_type": "code",
   "execution_count": 4,
   "metadata": {},
   "outputs": [
    {
     "name": "stdout",
     "output_type": "stream",
     "text": [
      "Brute Force Method\n",
      "11번째 문자가 일치합니다.\n",
      "Knuth-Morris-Pratt(KMP) Method\n",
      "[0, 0, 0, 0, 1]\n",
      "[0, 0, 0, 0, 1]\n",
      "11번째 문자가 일치합니다.\n",
      "Boyer-Moor Method\n",
      "텍스트 안에 패턴이 존재하지 않습니다.\n"
     ]
    }
   ],
   "source": [
    "if __name__ == \"__main__\":\n",
    "    s1 = \"ADJNSABAISABCAJSDQNRMZPD\"\n",
    "    s2 = \"ABCA\"\n",
    "    # s2 = \"ABCAJ\"\n",
    "\n",
    "    # [1] Test brute force method\n",
    "    idx = bf_match(s1, s2)\n",
    "\n",
    "    if idx == -1:\n",
    "        print(\"텍스트 안에 패턴이 존재하지 않습니다.\")\n",
    "    else:\n",
    "        print(f\"{idx+1}번째 문자가 일치합니다.\")\n",
    "\n",
    "    # [2] Test brute force method\n",
    "    idx = kmp_match(s1, s2)\n",
    "\n",
    "    if idx == -1:\n",
    "        print(\"텍스트 안에 패턴이 존재하지 않습니다.\")\n",
    "    else:\n",
    "        print(f\"{idx+1}번째 문자가 일치합니다.\")\n",
    "\n",
    "    # [3] Boyer-Moor Method\n",
    "    idx = bm_match(s1, s2)\n",
    "\n",
    "    if idx == -1:\n",
    "        print(\"텍스트 안에 패턴이 존재하지 않습니다.\")\n",
    "    else:\n",
    "        print(f\"{idx+1}번째 문자가 일치합니다.\")\n",
    "\n",
    "# Reference\n",
    "# Do it! 자료구조와 함께 배우는 알고리즘 입문: 파이썬 편"
   ]
  }
 ],
 "metadata": {
  "kernelspec": {
   "display_name": "macro",
   "language": "python",
   "name": "python3"
  },
  "language_info": {
   "codemirror_mode": {
    "name": "ipython",
    "version": 3
   },
   "file_extension": ".py",
   "mimetype": "text/x-python",
   "name": "python",
   "nbconvert_exporter": "python",
   "pygments_lexer": "ipython3",
   "version": "3.10.14"
  }
 },
 "nbformat": 4,
 "nbformat_minor": 2
}
